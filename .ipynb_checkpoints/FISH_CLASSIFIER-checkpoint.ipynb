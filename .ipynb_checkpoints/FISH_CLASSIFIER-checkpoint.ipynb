{
 "cells": [
  {
   "cell_type": "code",
   "execution_count": 47,
   "metadata": {},
   "outputs": [],
   "source": [
    "import numpy as np\n",
    "import pandas as pd\n",
    "import matplotlib.pyplot as plt\n",
    "\n",
    "from sklearn.preprocessing import StandardScaler\n",
    "from sklearn.preprocessing import LabelEncoder\n",
    "from sklearn.model_selection import train_test_split\n",
    "\n",
    "from sklearn.linear_model import LogisticRegression\n",
    "import tensorflow as tf"
   ]
  },
  {
   "cell_type": "code",
   "execution_count": 64,
   "metadata": {},
   "outputs": [
    {
     "data": {
      "text/html": [
       "<div>\n",
       "<style scoped>\n",
       "    .dataframe tbody tr th:only-of-type {\n",
       "        vertical-align: middle;\n",
       "    }\n",
       "\n",
       "    .dataframe tbody tr th {\n",
       "        vertical-align: top;\n",
       "    }\n",
       "\n",
       "    .dataframe thead th {\n",
       "        text-align: right;\n",
       "    }\n",
       "</style>\n",
       "<table border=\"1\" class=\"dataframe\">\n",
       "  <thead>\n",
       "    <tr style=\"text-align: right;\">\n",
       "      <th></th>\n",
       "      <th>Species</th>\n",
       "      <th>Weight</th>\n",
       "      <th>Length1</th>\n",
       "      <th>Length2</th>\n",
       "      <th>Length3</th>\n",
       "      <th>Height</th>\n",
       "      <th>Width</th>\n",
       "    </tr>\n",
       "  </thead>\n",
       "  <tbody>\n",
       "    <tr>\n",
       "      <th>0</th>\n",
       "      <td>Bream</td>\n",
       "      <td>242.0</td>\n",
       "      <td>23.2</td>\n",
       "      <td>25.4</td>\n",
       "      <td>30.0</td>\n",
       "      <td>11.5200</td>\n",
       "      <td>4.0200</td>\n",
       "    </tr>\n",
       "    <tr>\n",
       "      <th>1</th>\n",
       "      <td>Bream</td>\n",
       "      <td>290.0</td>\n",
       "      <td>24.0</td>\n",
       "      <td>26.3</td>\n",
       "      <td>31.2</td>\n",
       "      <td>12.4800</td>\n",
       "      <td>4.3056</td>\n",
       "    </tr>\n",
       "    <tr>\n",
       "      <th>2</th>\n",
       "      <td>Bream</td>\n",
       "      <td>340.0</td>\n",
       "      <td>23.9</td>\n",
       "      <td>26.5</td>\n",
       "      <td>31.1</td>\n",
       "      <td>12.3778</td>\n",
       "      <td>4.6961</td>\n",
       "    </tr>\n",
       "    <tr>\n",
       "      <th>3</th>\n",
       "      <td>Bream</td>\n",
       "      <td>363.0</td>\n",
       "      <td>26.3</td>\n",
       "      <td>29.0</td>\n",
       "      <td>33.5</td>\n",
       "      <td>12.7300</td>\n",
       "      <td>4.4555</td>\n",
       "    </tr>\n",
       "    <tr>\n",
       "      <th>4</th>\n",
       "      <td>Bream</td>\n",
       "      <td>430.0</td>\n",
       "      <td>26.5</td>\n",
       "      <td>29.0</td>\n",
       "      <td>34.0</td>\n",
       "      <td>12.4440</td>\n",
       "      <td>5.1340</td>\n",
       "    </tr>\n",
       "  </tbody>\n",
       "</table>\n",
       "</div>"
      ],
      "text/plain": [
       "  Species  Weight  Length1  Length2  Length3   Height   Width\n",
       "0   Bream   242.0     23.2     25.4     30.0  11.5200  4.0200\n",
       "1   Bream   290.0     24.0     26.3     31.2  12.4800  4.3056\n",
       "2   Bream   340.0     23.9     26.5     31.1  12.3778  4.6961\n",
       "3   Bream   363.0     26.3     29.0     33.5  12.7300  4.4555\n",
       "4   Bream   430.0     26.5     29.0     34.0  12.4440  5.1340"
      ]
     },
     "execution_count": 64,
     "metadata": {},
     "output_type": "execute_result"
    }
   ],
   "source": [
    "df = pd.read_csv(\"Fish.csv\",header = 0)\n",
    "df.head()"
   ]
  },
  {
   "cell_type": "code",
   "execution_count": 65,
   "metadata": {},
   "outputs": [],
   "source": [
    "y = df['Species']\n",
    "X = df.drop('Species', axis=1)"
   ]
  },
  {
   "cell_type": "code",
   "execution_count": 96,
   "metadata": {},
   "outputs": [
    {
     "name": "stdout",
     "output_type": "stream",
     "text": [
      "BREAT\n",
      "[398.32641509  26.24716981  28.41572327  31.22704403   8.97099371\n",
      "   4.41748553]\n"
     ]
    }
   ],
   "source": [
    "\n",
    "print(\"BREAT\")\n",
    "scaler = StandardScaler()\n",
    "scaler.fit(X)\n",
    "# StandardScaler()\n",
    "print(scaler.mean_)\n",
    "\n",
    "\n",
    "transformed_X = pd.DataFrame(scaler.fit_transform(X), columns=X.columns)\n"
   ]
  },
  {
   "cell_type": "code",
   "execution_count": 7,
   "metadata": {},
   "outputs": [],
   "source": [
    "# encoder = LabelEncoder()\n",
    "# y = encoder.fit_transform(y)\n",
    "# y_mappings = {index: label for index, label in enumerate(encoder.classes_)}"
   ]
  },
  {
   "cell_type": "code",
   "execution_count": 69,
   "metadata": {},
   "outputs": [],
   "source": [
    "X_train, X_test, y_train, y_test = train_test_split(transformed_X, y, train_size=0.3)"
   ]
  },
  {
   "cell_type": "code",
   "execution_count": 70,
   "metadata": {},
   "outputs": [
    {
     "data": {
      "text/plain": [
       "0.8125"
      ]
     },
     "execution_count": 70,
     "metadata": {},
     "output_type": "execute_result"
    }
   ],
   "source": [
    "logistic_model = LogisticRegression()\n",
    "logistic_model.fit(X_train, y_train)\n",
    "\n",
    "logistic_model.score(X_test, y_test)"
   ]
  },
  {
   "cell_type": "code",
   "execution_count": 72,
   "metadata": {},
   "outputs": [
    {
     "name": "stdout",
     "output_type": "stream",
     "text": [
      "['Bream' 'Bream' 'Bream' 'Smelt' 'Perch' 'Perch' 'Perch' 'Parkki' 'Perch'\n",
      " 'Perch' 'Perch' 'Parkki' 'Perch' 'Smelt' 'Perch' 'Perch' 'Bream' 'Perch'\n",
      " 'Perch' 'Perch' 'Smelt' 'Perch' 'Perch' 'Perch' 'Perch' 'Perch' 'Pike'\n",
      " 'Perch' 'Pike' 'Perch' 'Pike' 'Perch' 'Bream' 'Perch' 'Pike' 'Perch'\n",
      " 'Smelt' 'Perch' 'Perch' 'Bream' 'Bream' 'Perch' 'Perch' 'Perch' 'Bream'\n",
      " 'Perch' 'Pike' 'Perch' 'Perch' 'Pike' 'Bream' 'Smelt' 'Perch' 'Pike'\n",
      " 'Smelt' 'Bream' 'Perch' 'Perch' 'Pike' 'Bream' 'Perch' 'Roach' 'Pike'\n",
      " 'Bream' 'Perch' 'Smelt' 'Bream' 'Bream' 'Perch' 'Perch' 'Perch' 'Bream'\n",
      " 'Perch' 'Perch' 'Bream' 'Perch' 'Bream' 'Perch' 'Parkki' 'Perch' 'Bream'\n",
      " 'Perch' 'Perch' 'Perch' 'Bream' 'Perch' 'Smelt' 'Perch' 'Perch' 'Bream'\n",
      " 'Parkki' 'Perch' 'Perch' 'Smelt' 'Smelt' 'Pike' 'Pike' 'Bream' 'Perch'\n",
      " 'Perch' 'Perch' 'Bream' 'Bream' 'Perch' 'Perch' 'Perch' 'Bream' 'Bream'\n",
      " 'Perch' 'Bream' 'Bream' 'Smelt']\n",
      "14     Bream\n",
      "8      Bream\n",
      "24     Bream\n",
      "158    Smelt\n",
      "127    Perch\n",
      "       ...  \n",
      "34     Bream\n",
      "110    Perch\n",
      "27     Bream\n",
      "28     Bream\n",
      "155    Smelt\n",
      "Name: Species, Length: 112, dtype: object\n"
     ]
    }
   ],
   "source": [
    "predictions = logistic_model.predict(X_test)\n",
    "print(predictions)\n",
    "print(y_test)"
   ]
  },
  {
   "cell_type": "code",
   "execution_count": 73,
   "metadata": {},
   "outputs": [],
   "source": [
    "import pickle\n",
    "pickle_out = open(\"MODEL_FOR_API.pkl\",\"wb\")\n",
    "pickle.dump(logistic_model, pickle_out)\n",
    "pickle_out.close()"
   ]
  },
  {
   "cell_type": "code",
   "execution_count": 91,
   "metadata": {},
   "outputs": [
    {
     "name": "stdout",
     "output_type": "stream",
     "text": [
      "     Weight   Length1   Length2   Length3    Height     Width\n",
      "0  1.411145  1.409026  1.162476  1.229306  1.197113  1.020379\n",
      "1 -0.786212 -0.809317 -1.278724 -1.220132 -1.250622 -1.358199\n",
      "2 -0.624933 -0.599710  0.116248 -0.009174  0.053509  0.337820\n"
     ]
    }
   ],
   "source": [
    "# a = [['Weight', 'Length1', 'Length2', 'Length3', 'Height', 'Width'],]\n",
    "# np.asarray(['242.0', '23.2', '25.4', '30.0', '11.5200', '4.0200'], dtype='float32')\n",
    "# print(a)\n",
    "# print(logistic_model.predict(np.array(a)))\n",
    "# 430.0\t26.5\t29.0\t34.0\t12.4440\t5.1340\n",
    "# 0.088759  0.928537  0.897188  0.801211 -0.393426  0.094624\n",
    "# 19.9     13.8     15.0     16.2   2.9322  1.8792\n",
    "data = {'Weight': [430.0, 19.9, 50.0],\n",
    "        'Length1': [26.5, 13.8, 15.0],\n",
    "       'Length2': [29.0, 15.0, 23.0],\n",
    "       'Length3': [34.0, 16.2, 25.0],\n",
    "       'Height': [12.4440, 2.9322, 8.000],\n",
    "       'Width': [5.1340, 1.8792, 4.2000]}  \n",
    "  \n",
    "# Create DataFrame\n",
    "\n",
    "mydf = pd.DataFrame(data)\n",
    "scaler2 = StandardScaler()\n",
    "scaler2.mean_ = [398.32641509  26.24716981  28.41572327  31.22704403   8.97099371\n",
    "   4.41748553]\n",
    "mydf = pd.DataFrame(scaler2.fit_transform(mydf), columns=mydf.columns)\n",
    "print(mydf)\n",
    "# print(X.head)\n",
    "  \n",
    "# myDATA = pd.DataFrame(scaler.fit_transform(mydf), columns=mydf.columns)\n",
    "# Print the output.  \n",
    "# print(logistic_model.predict(myX))"
   ]
  },
  {
   "cell_type": "code",
   "execution_count": null,
   "metadata": {},
   "outputs": [],
   "source": []
  },
  {
   "cell_type": "code",
   "execution_count": null,
   "metadata": {},
   "outputs": [],
   "source": []
  }
 ],
 "metadata": {
  "kernelspec": {
   "display_name": "Python 3",
   "language": "python",
   "name": "python3"
  },
  "language_info": {
   "codemirror_mode": {
    "name": "ipython",
    "version": 3
   },
   "file_extension": ".py",
   "mimetype": "text/x-python",
   "name": "python",
   "nbconvert_exporter": "python",
   "pygments_lexer": "ipython3",
   "version": "3.7.9"
  }
 },
 "nbformat": 4,
 "nbformat_minor": 4
}
